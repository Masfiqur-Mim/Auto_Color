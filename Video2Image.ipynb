{
  "nbformat": 4,
  "nbformat_minor": 0,
  "metadata": {
    "colab": {
      "name": "Video2Image.ipynb",
      "provenance": [],
      "authorship_tag": "ABX9TyORWqKnlY49vKsL0eRS5sbH",
      "include_colab_link": true
    },
    "kernelspec": {
      "name": "python3",
      "display_name": "Python 3"
    }
  },
  "cells": [
    {
      "cell_type": "markdown",
      "metadata": {
        "id": "view-in-github",
        "colab_type": "text"
      },
      "source": [
        "<a href=\"https://colab.research.google.com/github/Masfiqur-Mim/Auto_Color/blob/master/Video2Image.ipynb\" target=\"_parent\"><img src=\"https://colab.research.google.com/assets/colab-badge.svg\" alt=\"Open In Colab\"/></a>"
      ]
    },
    {
      "cell_type": "markdown",
      "metadata": {
        "id": "2qQM1UEKXUkE",
        "colab_type": "text"
      },
      "source": [
        "# Creating Training Dataset"
      ]
    },
    {
      "cell_type": "code",
      "metadata": {
        "id": "DUxvFAUOafo4",
        "colab_type": "code",
        "colab": {
          "base_uri": "https://localhost:8080/",
          "height": 121
        },
        "outputId": "2688f85f-384b-4c84-90c5-9d44bee64a11"
      },
      "source": [
        "from google.colab import drive\n",
        "drive.mount('/content/drive')"
      ],
      "execution_count": null,
      "outputs": [
        {
          "output_type": "stream",
          "text": [
            "Go to this URL in a browser: https://accounts.google.com/o/oauth2/auth?client_id=947318989803-6bn6qk8qdgf4n4g3pfee6491hc0brc4i.apps.googleusercontent.com&redirect_uri=urn%3aietf%3awg%3aoauth%3a2.0%3aoob&response_type=code&scope=email%20https%3a%2f%2fwww.googleapis.com%2fauth%2fdocs.test%20https%3a%2f%2fwww.googleapis.com%2fauth%2fdrive%20https%3a%2f%2fwww.googleapis.com%2fauth%2fdrive.photos.readonly%20https%3a%2f%2fwww.googleapis.com%2fauth%2fpeopleapi.readonly\n",
            "\n",
            "Enter your authorization code:\n",
            "··········\n",
            "Mounted at /content/drive\n"
          ],
          "name": "stdout"
        }
      ]
    },
    {
      "cell_type": "code",
      "metadata": {
        "id": "E9KOBrPoT0FO",
        "colab_type": "code",
        "colab": {}
      },
      "source": [
        "import os"
      ],
      "execution_count": null,
      "outputs": []
    },
    {
      "cell_type": "markdown",
      "metadata": {
        "id": "1MgBr6LrXM5U",
        "colab_type": "text"
      },
      "source": [
        "### Function to make colorful images black and white\n"
      ]
    },
    {
      "cell_type": "code",
      "metadata": {
        "id": "KGFjb1LhXIvf",
        "colab_type": "code",
        "colab": {}
      },
      "source": [
        "from PIL import Image\n",
        "#there's a conversion called dither. It adds noise to images if applied\n",
        "def black_and_white(input_image_path, output_image_path):\n",
        "   color_image = Image.open(input_image_path)\n",
        "   bw = color_image.convert('L') #black and white conversion.\n",
        "   bw.save(output_image_path)"
      ],
      "execution_count": null,
      "outputs": []
    },
    {
      "cell_type": "markdown",
      "metadata": {
        "id": "nIrqReIXaUvX",
        "colab_type": "text"
      },
      "source": [
        "### Using CV2 to cut frames and saving them in a folder for training"
      ]
    },
    {
      "cell_type": "code",
      "metadata": {
        "id": "bS9gipsCaSzt",
        "colab_type": "code",
        "colab": {}
      },
      "source": [
        "import cv2\n",
        "video_location = '/content/drive/My Drive/Research/Image Coloring/Videos/Temple_of_thought.mp4'\n",
        "image_location = '/content/drive/My Drive/Research/Image Coloring/Images/'\n",
        "vid_capture= cv2.VideoCapture(video_location)\n",
        "i=0\n",
        "while(vid_capture.isOpened()):\n",
        "    ret, frame = vid_capture.read()\n",
        "    if ret == False:\n",
        "        break\n",
        "    cv2.imwrite(image_location+'img'+str(i)+'.jpg',frame)\n",
        "    i+=1\n",
        " \n",
        "vid_capture.release()\n",
        "cv2.destroyAllWindows()"
      ],
      "execution_count": null,
      "outputs": []
    }
  ]
}