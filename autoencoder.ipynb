{
  "nbformat": 4,
  "nbformat_minor": 0,
  "metadata": {
    "colab": {
      "name": "autoencoder.ipynb",
      "provenance": [],
      "authorship_tag": "ABX9TyPq+TagkkpMHnAf6H+dhXXP",
      "include_colab_link": true
    },
    "kernelspec": {
      "name": "python3",
      "display_name": "Python 3"
    },
    "accelerator": "GPU"
  },
  "cells": [
    {
      "cell_type": "markdown",
      "metadata": {
        "id": "view-in-github",
        "colab_type": "text"
      },
      "source": [
        "<a href=\"https://colab.research.google.com/github/Masfiqur-Mim/Auto_Color/blob/master/autoencoder.ipynb\" target=\"_parent\"><img src=\"https://colab.research.google.com/assets/colab-badge.svg\" alt=\"Open In Colab\"/></a>"
      ]
    },
    {
      "cell_type": "markdown",
      "metadata": {
        "id": "fHkcdCTn3sIr",
        "colab_type": "text"
      },
      "source": [
        ""
      ]
    },
    {
      "cell_type": "code",
      "metadata": {
        "id": "-FQUperZ26Qz",
        "colab_type": "code",
        "colab": {
          "base_uri": "https://localhost:8080/",
          "height": 34
        },
        "outputId": "6ec809f7-8744-412c-d370-17387d372b57"
      },
      "source": [
        "import os\n",
        "from PIL import Image\n",
        "from keras.models import Model\n",
        "from keras.layers import Input, Dense, Conv2D, MaxPooling2D, UpSampling2D\n",
        "from keras import backend as K\n",
        "import numpy as np\n",
        "import matplotlib.pyplot as plt"
      ],
      "execution_count": null,
      "outputs": [
        {
          "output_type": "stream",
          "text": [
            "Using TensorFlow backend.\n"
          ],
          "name": "stderr"
        }
      ]
    },
    {
      "cell_type": "code",
      "metadata": {
        "id": "Ex-hJuZOuS5s",
        "colab_type": "code",
        "colab": {
          "base_uri": "https://localhost:8080/",
          "height": 121
        },
        "outputId": "6e235691-3436-42e4-e4ae-e7139ddf6d88"
      },
      "source": [
        "from google.colab import drive\n",
        "drive.mount('/content/drive')"
      ],
      "execution_count": null,
      "outputs": [
        {
          "output_type": "stream",
          "text": [
            "Go to this URL in a browser: https://accounts.google.com/o/oauth2/auth?client_id=947318989803-6bn6qk8qdgf4n4g3pfee6491hc0brc4i.apps.googleusercontent.com&redirect_uri=urn%3aietf%3awg%3aoauth%3a2.0%3aoob&response_type=code&scope=email%20https%3a%2f%2fwww.googleapis.com%2fauth%2fdocs.test%20https%3a%2f%2fwww.googleapis.com%2fauth%2fdrive%20https%3a%2f%2fwww.googleapis.com%2fauth%2fdrive.photos.readonly%20https%3a%2f%2fwww.googleapis.com%2fauth%2fpeopleapi.readonly\n",
            "\n",
            "Enter your authorization code:\n",
            "··········\n",
            "Mounted at /content/drive\n"
          ],
          "name": "stdout"
        }
      ]
    },
    {
      "cell_type": "markdown",
      "metadata": {
        "id": "ajAWugMxuFBd",
        "colab_type": "text"
      },
      "source": [
        "###Random Codes"
      ]
    },
    {
      "cell_type": "code",
      "metadata": {
        "id": "tPeYfxiUsQdF",
        "colab_type": "code",
        "colab": {
          "base_uri": "https://localhost:8080/",
          "height": 34
        },
        "outputId": "63d3a103-72cb-49ed-c679-df92c5a4c5ec"
      },
      "source": [
        "#color_image = Image.open('/content/drive/My Drive/Research/Image Coloring/Images/img1.jpg')\n",
        "#bw = color_image.convert('L') #black and white conversion.\n",
        "#bw.save('/content/drive/My Drive/Research/Image Coloring/Images/img1bw.jpg')\n",
        "a_img = Image.open('/content/drive/My Drive/Research/Image Coloring/Images/img1.jpg')\n",
        "img_arr = np.asarray(a_img)\n",
        "print(img_arr.shape)\n"
      ],
      "execution_count": null,
      "outputs": [
        {
          "output_type": "stream",
          "text": [
            "(360, 576, 3)\n"
          ],
          "name": "stdout"
        }
      ]
    },
    {
      "cell_type": "markdown",
      "metadata": {
        "id": "zJhf6qNXuUpc",
        "colab_type": "text"
      },
      "source": [
        "###Presets"
      ]
    },
    {
      "cell_type": "code",
      "metadata": {
        "id": "SmzMXZuUULQI",
        "colab_type": "code",
        "colab": {}
      },
      "source": [
        "input_width = 640\n",
        "input_height = 480\n",
        "encoding_dim1 = 128\n",
        "encoding_dim2 = encoding_dim1/2\n",
        "encoding_dim3 = encoding_dim1/4\n",
        "conv_window = 3\n",
        "pooling_window = 2"
      ],
      "execution_count": null,
      "outputs": []
    },
    {
      "cell_type": "markdown",
      "metadata": {
        "id": "2QKj72IVuRib",
        "colab_type": "text"
      },
      "source": [
        "###Model Description"
      ]
    },
    {
      "cell_type": "code",
      "metadata": {
        "id": "LE2iGlhOUXry",
        "colab_type": "code",
        "colab": {}
      },
      "source": [
        "input_img = Input(shape=(input_width,input_height))\n",
        "encoder = Conv2D(encoding_dim1, (conv_window, conv_window), activation='relu', padding='same')(input_img)\n",
        "encoder = MaxPooling2D((pooling_window, pooling_window), padding='same')(encoder)\n",
        "encoder = Conv2D(encoding_dim2, (conv_window, conv_window), activation='relu', padding='same')(encoder)\n",
        "encoder = MaxPooling2D((pooling_window, pooling_window), padding='same')(encoder)\n",
        "encoder = Conv2D(encoding_dim3), (conv_window, conv_window), activation='relu',padding='same')(encoder)\n",
        "encoder = MaxPooling2D((pooling_window, pooling_window), padding='same')(encoder)\n",
        "\n",
        "decoder = Conv2D(encoding_dim3, (conv_window, conv_window), activation='relu',padding='same')(encoder)\n",
        "decoder = UpSampling2D((pooling_window, pooling_window))(decoder)\n",
        "decoder = Conv2D(encoding_dim2, (conv_window, conv_window), activation='relu',padding='same')(decoder)\n",
        "decoder = UpSampling2D((pooling_window, pooling_window))(decoder)\n",
        "decoder = Conv2D(encoding_dim1, (conv_window, conv_window), activation='relu',padding='same')(decoder)\n",
        "decoder = UpSampling2D((pooling_window, pooling_window))(decoder)\n",
        "\n",
        "coloring_autoencoder = Model(input_img, decoder)\n",
        "coloring_autoencoder.compile(optimizer='adadelta', loss='binary_crossentropy')"
      ],
      "execution_count": null,
      "outputs": []
    },
    {
      "cell_type": "markdown",
      "metadata": {
        "id": "2V9LLOZOwkIB",
        "colab_type": "text"
      },
      "source": [
        "##Training and Testing"
      ]
    },
    {
      "cell_type": "code",
      "metadata": {
        "id": "5i_fmeTawxMK",
        "colab_type": "code",
        "colab": {}
      },
      "source": [
        ""
      ],
      "execution_count": null,
      "outputs": []
    },
    {
      "cell_type": "markdown",
      "metadata": {
        "id": "nEYrObE4xJcR",
        "colab_type": "text"
      },
      "source": [
        "###TensorBoard"
      ]
    },
    {
      "cell_type": "code",
      "metadata": {
        "id": "lj-cgpLZxJHA",
        "colab_type": "code",
        "colab": {}
      },
      "source": [
        "from keras.callbacks import TensorBoard\n",
        "\n",
        "coloring_autoencoder.fit(x_train, x_train,\n",
        "                         epochs = 50,\n",
        "                         batch_size = 100,\n",
        "                         shuffle = true,\n",
        "                         validation_data = (x_test, x_test),\n",
        "                         callbacks = [TensorBoard(log_dir = 'tmp/coloring_autoencoder')])"
      ],
      "execution_count": null,
      "outputs": []
    }
  ]
}